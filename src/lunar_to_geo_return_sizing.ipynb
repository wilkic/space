{
 "cells": [
  {
   "cell_type": "code",
   "execution_count": 31,
   "metadata": {},
   "outputs": [
    {
     "name": "stdout",
     "output_type": "stream",
     "text": [
      "Java version: 1.8.0_382\n",
      "Orekit version: 12.0.1\n",
      "File or folder: /home/chris/git/space/src/orekit-data.zip  not found\n",
      "\n",
      "\n",
      "        The Orekit library relies on some external data for physical models. \n",
      "        Typical data are the Earth Orientation Parameters and the leap seconds history, \n",
      "        both being provided by the IERS or the planetary ephemerides provided by JPL. \n",
      "        Such data is stored in text or binary files with specific formats that Orekit knows \n",
      "        how to read, and needs to be provided for the library to work.\n",
      "\n",
      "        You can download a starting file with this data from the orekit gitlab at:\n",
      "        https://gitlab.orekit.org/orekit/orekit-data\n",
      "\n",
      "        or by the function:\n",
      "        orekit.pyhelpers.download_orekit_data_curdir()\n",
      "\n",
      "        \n"
     ]
    }
   ],
   "source": [
    "import orekit\n",
    "import numpy as np\n",
    "\n",
    "vm = orekit.initVM()\n",
    "print ('Java version:',vm.java_version)\n",
    "print ('Orekit version:', orekit.VERSION)\n",
    "\n",
    "from orekit.pyhelpers import setup_orekit_curdir, download_orekit_data_curdir\n",
    "setup_orekit_curdir()\n",
    "\n",
    "from org.orekit.utils import Constants\n",
    "\n",
    "from scenarios.utils.utility import get_vel, get_vels, mass_fraction, rocket_equation\n"
   ]
  },
  {
   "cell_type": "code",
   "execution_count": 32,
   "metadata": {},
   "outputs": [
    {
     "name": "stdout",
     "output_type": "stream",
     "text": [
      "using Constants.WGS84_EARTH_EQUATORIAL_RADIUS 6378137.0 as RE\n",
      "using Constants.WGS84_EARTH_MU 398600441800000.0 as MU\n",
      "g (m/s^2) = 9.7982854791873\n",
      "mu = 398600441800000.0\n",
      "mu_jpl = 398600436738211.56\n",
      "mu - mujpl = 5061788.4375\n"
     ]
    }
   ],
   "source": [
    "\n",
    "###\n",
    "\n",
    "RE = Constants.WGS84_EARTH_EQUATORIAL_RADIUS\n",
    "MU = Constants.WGS84_EARTH_MU\n",
    "\n",
    "print(f'using Constants.WGS84_EARTH_EQUATORIAL_RADIUS {Constants.WGS84_EARTH_EQUATORIAL_RADIUS} as RE')\n",
    "print(f'using Constants.WGS84_EARTH_MU {Constants.WGS84_EARTH_MU} as MU')\n",
    "\n",
    "g_test = MU / RE**2\n",
    "\n",
    "print(f'g (m/s^2) = {g_test}')\n",
    "\n",
    "\n",
    "## TODO: Reconsider MUs ?\n",
    "\n",
    "MU_JPL = Constants.JPL_SSD_EARTH_GM\n",
    "\n",
    "print(f'mu = {MU}')\n",
    "print(f'mu_jpl = {MU_JPL}')\n",
    "print(f'mu - mujpl = {MU - MU_JPL}')\n",
    "\n",
    "RM = Constants.MOON_EQUATORIAL_RADIUS\n"
   ]
  },
  {
   "cell_type": "code",
   "execution_count": 33,
   "metadata": {},
   "outputs": [
    {
     "name": "stdout",
     "output_type": "stream",
     "text": [
      "v_geo (km/s) = 3.066888291825575\n"
     ]
    }
   ],
   "source": [
    "###\n",
    "\n",
    "h_geo = 36000e3 # m\n",
    "\n",
    "R_geo = h_geo + RE\n",
    "\n",
    "v_geo = get_vel( R_geo, R_geo, MU )\n",
    "\n",
    "print(f'v_geo (km/s) = {v_geo/1000}')\n",
    "\n",
    "\n"
   ]
  },
  {
   "cell_type": "code",
   "execution_count": 34,
   "metadata": {},
   "outputs": [
    {
     "name": "stdout",
     "output_type": "stream",
     "text": [
      "RE_M (km) = 384400.0\n",
      "vp_lti (km/s) = 4.116267245518918, va_lti (km/s) = 0.45379744344228246\n"
     ]
    }
   ],
   "source": [
    "MU_L = Constants.JPL_SSD_MOON_GM\n",
    "\n",
    "# https://nssdc.gsfc.nasa.gov/planetary/factsheet/moonfact.html\n",
    "RE_MP = 363104e3\n",
    "RE_MA = 405696e3\n",
    "RE_M = np.mean([RE_MA,RE_MP])\n",
    "print(f'RE_M (km) = {RE_M/1000}')\n",
    "\n",
    "\n",
    "# TODO: check me: apogee of low earth LTI orbit\n",
    "R_a_LTI = 384400e3\n",
    "\n",
    "(vp_lti,va_lti) = get_vels( R_geo, R_a_LTI, MU )\n",
    "\n",
    "print(f'vp_lti (km/s) = {vp_lti/1000}, va_lti (km/s) = {va_lti/1000}')\n",
    "\n"
   ]
  },
  {
   "cell_type": "code",
   "execution_count": 35,
   "metadata": {},
   "outputs": [
    {
     "name": "stdout",
     "output_type": "stream",
     "text": [
      "vp_geo2lti (km/s) = 4.116267245518918, va_geo2lti (km/s) = 0.45379744344228246\n",
      "DV GEO 2 LTI = vp_geo2lti - v_geo (m/s) = 1049.3789536933427\n",
      "DV GEO 2 INF = vp_inf_geo - v_geo (m/s) = 1270.3467247574072\n"
     ]
    }
   ],
   "source": [
    "### GEO to Lunar Transfer (2.5km/s from bard = .7 circ + 1.3 raise + .5 inc)\n",
    "\n",
    "v_inf_geo = np.sqrt( 2*MU/R_geo )\n",
    "\n",
    "(vp_geo2lti,va_geo2lti) = get_vels( R_geo, R_a_LTI, MU )\n",
    "\n",
    "print(f'vp_geo2lti (km/s) = {vp_geo2lti/1000}, va_geo2lti (km/s) = {va_geo2lti/1000}')\n",
    "\n",
    "dv_geo2lti = vp_geo2lti - v_geo\n",
    "dv_geo2inf = v_inf_geo  - v_geo\n",
    "\n",
    "print(f'DV GEO 2 LTI = vp_geo2lti - v_geo (m/s) = {dv_geo2lti}')\n",
    "print(f'DV GEO 2 INF = vp_inf_geo - v_geo (m/s) = {dv_geo2inf}')\n"
   ]
  },
  {
   "cell_type": "code",
   "execution_count": 36,
   "metadata": {},
   "outputs": [
    {
     "name": "stdout",
     "output_type": "stream",
     "text": [
      "moon radius = 1737400.0\n",
      "MU_L (m^3/s^2) = 4.902798458429648 *10^12\n",
      "MU (Gkm^3/s^2) = 0.39860044180000004, MU_L (Gkm^3/s^2) = 0.004902798458429647\n",
      "escape velocity = 2.38 km/s (11.2 for earth)\n",
      "v_ls = 4.624435799449381\n",
      "vp_l2s = 1703.1899706600493\n",
      "va_l2s = 1610.4943153503698\n",
      "v_llo = 1633.5038575843078\n",
      "DV LS 2 L2S = vp_l2s - v_ls (m/s) = 1698.5655348605999\n",
      "DV L2S 2 LLO = v_llo - va_l2s (m/s) = 23.009542233937964\n",
      "RM (km) = 1737.4\n",
      "GEO 2 LTI :       1200 \t lunar injection\n",
      "LTI 2 LLO :          0 \t lunar orbit capture\n",
      "LLO 2 L2S :         20 \t lunar descent burn\n",
      "L2S 2 LS  :       1680 \t lunar landing burn\n"
     ]
    }
   ],
   "source": [
    "### Lunar Capture (640 m/s from bard to 100 km circ [+ 120 m/s for direct transfers])\n",
    "# : (chatGPT says 1.5 - 2 km/s)\n",
    "\n",
    "dv_lti2llo = 760\n",
    "\n",
    "h_llo = 100e3\n",
    "\n",
    "v_llo = get_vel( h_llo+RM, h_llo+RM, MU_L )\n",
    "\n",
    "(vp_l2s,va_l2s) = get_vels( RM, h_llo+RM, MU_L )\n",
    "\n",
    "# https://nssdc.gsfc.nasa.gov/planetary/factsheet/moonfact.html\n",
    "print(f'moon radius = {RM}')\n",
    "print(f'MU_L (m^3/s^2) = {MU_L*10**-12} *10^12')\n",
    "print(f'MU (Gkm^3/s^2) = {MU * 10**-9 * 10**-6}, MU_L (Gkm^3/s^2) = {MU_L * 10**-9 * 10**-6}')\n",
    "print(f'escape velocity = 2.38 km/s (11.2 for earth)')\n",
    "v_ls = 0 # once every 30 days right ?\n",
    "\n",
    "# Sidereal rotation period (hrs)\t655.720\n",
    "w_L = 2*np.pi / (655.72*3600)\n",
    "v_ls = w_L * RM\n",
    "\n",
    "print(f'v_ls = {v_ls}')\n",
    "print(f'vp_l2s = {vp_l2s}')\n",
    "print(f'va_l2s = {va_l2s}')\n",
    "print(f'v_llo = {v_llo}')\n",
    "\n",
    "dv_ls2l2s = vp_l2s - v_ls\n",
    "print(f'DV LS 2 L2S = vp_l2s - v_ls (m/s) = {dv_ls2l2s}')\n",
    "\n",
    "dv_l2s2llo = v_llo - va_l2s\n",
    "print(f'DV L2S 2 LLO = v_llo - va_l2s (m/s) = {dv_l2s2llo}')\n",
    "\n",
    "print(f'RM (km) = {RM/1000}')\n",
    "\n",
    "\n",
    "# # distribute to get 2km/s\n",
    "# dv_geo2lti = 1200\n",
    "# dv_lti2llo = 800\n",
    "\n",
    "# # distribute to get 2km/s\n",
    "# dv_l2s2llo = 200\n",
    "# dv_ls2l2s = 1800\n",
    "\n",
    "\n",
    "# Ballistic\n",
    "dv_geo2lti = 1200\n",
    "dv_lti2llo = 0\n",
    "\n",
    "# Ballistic\n",
    "dv_l2s2llo = 20 # 20 m/s is good as gets\n",
    "dv_ls2l2s = 1680 # 1700 m/s is good as gets\n",
    "\n",
    "\n",
    "\n",
    "print(f'GEO 2 LTI : {dv_geo2lti:10.0f} \\t lunar injection')\n",
    "print(f'LTI 2 LLO : {dv_lti2llo:10.0f} \\t lunar orbit capture')\n",
    "print(f'LLO 2 L2S : {dv_l2s2llo:10.0f} \\t lunar descent burn')\n",
    "print(f'L2S 2 LS  : {dv_ls2l2s:10.0f} \\t lunar landing burn')\n",
    "\n"
   ]
  },
  {
   "cell_type": "code",
   "execution_count": 37,
   "metadata": {},
   "outputs": [
    {
     "name": "stdout",
     "output_type": "stream",
     "text": [
      "m_l2s2ls = 14636.779048023556\n",
      "m_llo = 14703.309747587895\n",
      "m_lti2llo = 14703.309747587895\n",
      "m_geo_return = 19301.47397731248\n",
      "m_geo_arrive = [19301.47397731 21523.69619953 23745.91842176 25968.14064398\n",
      " 28190.3628662  30412.58508842 32634.80731065 34857.02953287\n",
      " 37079.25175509 39301.47397731]\n",
      "m_lti2geo = [25337.62153504 28254.79903659 31171.97653815 34089.1540397\n",
      " 37006.33154125 39923.50904281 42840.68654436 45757.86404591\n",
      " 48675.04154747 51592.21904902]\n",
      "m_llo_depart = [25337.62153504 28254.79903659 31171.97653815 34089.1540397\n",
      " 37006.33154125 39923.50904281 42840.68654436 45757.86404591\n",
      " 48675.04154747 51592.21904902]\n",
      "m_l2s = [25452.79234417 28383.22972068 31313.66709719 34244.1044737\n",
      " 37174.54185021 40104.97922672 43035.41660322 45965.85397973\n",
      " 48896.29135624 51826.72873275]\n",
      "m_ls = [37254.68976969 41543.90620909 45833.12264849 50122.3390879\n",
      " 54411.5555273  58700.7719667  62989.9884061  67279.20484551\n",
      " 71568.42128491 75857.63772431]\n"
     ]
    }
   ],
   "source": [
    "###\n",
    "\n",
    "\n",
    "# Isp = 350 # Lox Methane\n",
    "Isp = 450\n",
    "g0 = 9.8\n",
    "m_spacecraft = 10e3\n",
    "# m_dump = 10e3\n",
    "m_dump = np.linspace(0, 20e3, num=10)\n",
    "\n",
    "m_l2s2ls = m_spacecraft * mass_fraction( dv_ls2l2s, Isp, g0 )\n",
    "print(f'm_l2s2ls = {m_l2s2ls}')\n",
    "\n",
    "m_llo_return = m_l2s2ls * mass_fraction( dv_l2s2llo, Isp, g0 )\n",
    "print(f'm_llo = {m_llo_return}')\n",
    "\n",
    "m_lti2llo = m_llo_return * mass_fraction( dv_lti2llo, Isp, g0 )\n",
    "print(f'm_lti2llo = {m_lti2llo}')\n",
    "\n",
    "m_geo_return = m_lti2llo * mass_fraction( dv_geo2lti, Isp, g0 )\n",
    "print(f'm_geo_return = {m_geo_return}')\n",
    "\n",
    "m_geo_arrive = m_geo_return + m_dump\n",
    "print(f'm_geo_arrive = {m_geo_arrive}')\n",
    "\n",
    "m_lti2geo = m_geo_arrive * mass_fraction( dv_geo2lti, Isp, g0 )\n",
    "print(f'm_lti2geo = {m_lti2geo}')\n",
    "\n",
    "m_llo_depart = m_lti2geo * mass_fraction( dv_lti2llo, Isp, g0 )\n",
    "print(f'm_llo_depart = {m_llo_depart}')\n",
    "\n",
    "m_l2s = m_llo_depart * mass_fraction( dv_l2s2llo, Isp, g0 )\n",
    "print(f'm_l2s = {m_l2s}')\n",
    "\n",
    "m_ls = m_l2s * mass_fraction( dv_ls2l2s, Isp, g0 )\n",
    "print(f'm_ls = {m_ls}')\n",
    "\n"
   ]
  },
  {
   "cell_type": "code",
   "execution_count": 38,
   "metadata": {},
   "outputs": [
    {
     "name": "stdout",
     "output_type": "stream",
     "text": [
      "m_spacecraft = 14636.779048023556\n",
      "m_burned = [22617.91072166 24684.90493884 26751.89915602 28818.89337321\n",
      " 30885.88759039 32952.88180757 35019.87602475 37086.87024193\n",
      " 39153.86445911 41220.85867629]\n",
      "m_dump = [    0.          2222.22222222  4444.44444444  6666.66666667\n",
      "  8888.88888889 11111.11111111 13333.33333333 15555.55555556\n",
      " 17777.77777778 20000.        ]\n",
      "m_burned / (m_burned + m_spacecraft) = [0.6071158  0.62776825 0.6463579  0.66317909 0.67847272 0.69243784\n",
      " 0.70524033 0.7170196  0.72789359 0.7379628 ]\n",
      "m_burned / (m_burned + m_dump) = [1.         0.91741139 0.85753316 0.81213015 0.77651945 0.74784148\n",
      " 0.72425133 0.70450534 0.68773467 0.67331396]\n"
     ]
    }
   ],
   "source": [
    "###\n",
    "\n",
    "\n",
    "m_spacecraft = m_l2s2ls\n",
    "m_burned = m_ls - m_dump - m_spacecraft\n",
    "\n",
    "mass_ratio = m_burned / (m_burned + m_spacecraft)\n",
    "print(f'm_spacecraft = {m_spacecraft}')\n",
    "print(f'm_burned = {m_burned}')\n",
    "print(f'm_dump = {m_dump}')\n",
    "print(f'm_burned / (m_burned + m_spacecraft) = {m_burned / (m_burned + m_spacecraft)}')\n",
    "\n",
    "print(f'm_burned / (m_burned + m_dump) = {m_burned / (m_burned + m_dump)}')\n"
   ]
  },
  {
   "cell_type": "code",
   "execution_count": 39,
   "metadata": {},
   "outputs": [],
   "source": [
    "\n",
    "\n",
    "m_burned_cons = np.array([46312.4717773,  49594.59122122, 52876.71066515, 56158.83010907, 59440.94955299, 62723.06899692, 66005.18844084, 69287.30788477, 72569.42732869, 75851.54677262])\n",
    "\n",
    "m_dump_cons = np.array([    0.,          2222.22222222,  4444.44444444,  6666.66666667,  8888.88888889, 11111.11111111, 13333.33333333, 15555.55555556, 17777.77777778, 20000.        ])\n",
    "\n",
    "\n",
    "m_burned_norm = np.array([34898.19641585, 37624.93464385, 40351.67287185, 43078.41109985, 45805.14932784, 48531.88755584, 51258.62578384, 53985.36401184, 56712.10223984, 59438.84046784])\n",
    "m_dump_norm = np.array([    0.,          2222.22222222,  4444.44444444,  6666.66666667,  8888.88888889, 11111.11111111, 13333.33333333, 15555.55555556, 17777.77777778, 20000.  ])"
   ]
  },
  {
   "cell_type": "code",
   "execution_count": 41,
   "metadata": {},
   "outputs": [
    {
     "data": {
      "image/png": "[encoded data removed]",
      "text/plain": [
       "<Figure size 640x480 with 1 Axes>"
      ]
     },
     "metadata": {},
     "output_type": "display_data"
    }
   ],
   "source": [
    "import matplotlib.pyplot as plt\n",
    "\n",
    "# Plotting\n",
    "# plt.plot( m_burned/1000, m_dump/1000, marker='o', linestyle='-' )\n",
    "# plt.xlabel('Propellant Burned (T)')\n",
    "\n",
    "# plt.plot( m_dump_ideal / m_burned_ideal * 100, m_dump_ideal/1000, marker=None, linestyle='--', color='r' )\n",
    "plt.plot( m_dump_cons / m_burned_cons * 100, m_dump_cons/1000, marker=None, linestyle='--', color='g' )\n",
    "plt.plot( m_dump_norm / m_burned_norm * 100, m_dump_norm/1000, marker=None, linestyle='--', color='b' )\n",
    "plt.plot( m_dump / m_burned * 100, m_dump/1000, marker=None, linestyle='--', color='r' )\n",
    "plt.xlabel('Mass Fraction (%)')\n",
    "plt.legend(['Conservative','Realizable','Ideal'])\n",
    "\n",
    "\n",
    "# Adding labels and title\n",
    "plt.ylabel('Propellant Offloaded (T)')\n",
    "title = 'Propellant Sizing for 10T Vehicle'\n",
    "plt.title(title)\n",
    "plt.grid()\n",
    "\n",
    "# Display the plot\n",
    "plt.savefig(title.replace(' ','_') + '.png')\n",
    "plt.show()\n",
    "\n",
    "\n"
   ]
  }
 ],
 "metadata": {
  "kernelspec": {
   "display_name": "venv",
   "language": "python",
   "name": "python3"
  },
  "language_info": {
   "codemirror_mode": {
    "name": "ipython",
    "version": 3
   },
   "file_extension": ".py",
   "mimetype": "text/x-python",
   "name": "python",
   "nbconvert_exporter": "python",
   "pygments_lexer": "ipython3",
   "version": "3.1.0"
  }
 },
 "nbformat": 4,
 "nbformat_minor": 2
}

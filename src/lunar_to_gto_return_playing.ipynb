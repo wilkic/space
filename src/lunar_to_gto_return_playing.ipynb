{
 "cells": [
  {
   "cell_type": "code",
   "execution_count": 62,
   "metadata": {},
   "outputs": [
    {
     "name": "stdout",
     "output_type": "stream",
     "text": [
      "Java version: 1.8.0_382\n",
      "Orekit version: 12.0.1\n",
      "File or folder: /home/chris/git/space/src/orekit-data.zip  not found\n",
      "\n",
      "\n",
      "        The Orekit library relies on some external data for physical models. \n",
      "        Typical data are the Earth Orientation Parameters and the leap seconds history, \n",
      "        both being provided by the IERS or the planetary ephemerides provided by JPL. \n",
      "        Such data is stored in text or binary files with specific formats that Orekit knows \n",
      "        how to read, and needs to be provided for the library to work.\n",
      "\n",
      "        You can download a starting file with this data from the orekit gitlab at:\n",
      "        https://gitlab.orekit.org/orekit/orekit-data\n",
      "\n",
      "        or by the function:\n",
      "        orekit.pyhelpers.download_orekit_data_curdir()\n",
      "\n",
      "        \n"
     ]
    }
   ],
   "source": [
    "import orekit\n",
    "import numpy as np\n",
    "\n",
    "vm = orekit.initVM()\n",
    "print ('Java version:',vm.java_version)\n",
    "print ('Orekit version:', orekit.VERSION)\n",
    "\n",
    "from orekit.pyhelpers import setup_orekit_curdir, download_orekit_data_curdir\n",
    "setup_orekit_curdir()\n",
    "\n",
    "from org.orekit.utils import Constants\n",
    "\n",
    "from scenarios.utils.utility import get_vel, get_vels, get_apo, rocket_equation, mass_fraction\n"
   ]
  },
  {
   "cell_type": "code",
   "execution_count": 63,
   "metadata": {},
   "outputs": [
    {
     "name": "stdout",
     "output_type": "stream",
     "text": [
      "using Constants.WGS84_EARTH_EQUATORIAL_RADIUS 6378137.0 as RE\n",
      "using Constants.WGS84_EARTH_MU 398600441800000.0 as MU\n",
      "g (m/s^2) = 9.7982854791873\n",
      "mu = 398600441800000.0\n",
      "mu_jpl = 398600436738211.56\n",
      "mu - mujpl = 5061788.4375\n"
     ]
    }
   ],
   "source": [
    "\n",
    "###\n",
    "\n",
    "RE = Constants.WGS84_EARTH_EQUATORIAL_RADIUS\n",
    "MU = Constants.WGS84_EARTH_MU\n",
    "\n",
    "print(f'using Constants.WGS84_EARTH_EQUATORIAL_RADIUS {Constants.WGS84_EARTH_EQUATORIAL_RADIUS} as RE')\n",
    "print(f'using Constants.WGS84_EARTH_MU {Constants.WGS84_EARTH_MU} as MU')\n",
    "\n",
    "g_test = MU / RE**2\n",
    "\n",
    "print(f'g (m/s^2) = {g_test}')\n",
    "\n",
    "\n",
    "## TODO: Reconsider MUs ?\n",
    "\n",
    "MU_JPL = Constants.JPL_SSD_EARTH_GM\n",
    "\n",
    "print(f'mu = {MU}')\n",
    "print(f'mu_jpl = {MU_JPL}')\n",
    "print(f'mu - mujpl = {MU - MU_JPL}')\n",
    "\n",
    "RM = Constants.MOON_EQUATORIAL_RADIUS\n"
   ]
  },
  {
   "cell_type": "code",
   "execution_count": 73,
   "metadata": {},
   "outputs": [
    {
     "name": "stdout",
     "output_type": "stream",
     "text": [
      "v_geo (km/s) = 3.066888291825575\n",
      "vp_gto (km/s) = 10.255608789236996, va_gto (km/s) = 1.588294584591261\n",
      "DV GTO 2 GEO = v_geo - va_gto (m/s) = 1478.5937072343138\n",
      "v_inf_leo (km/s) = 11.021181403983277, v_inf_geo (km/s) = 4.337235016582982\n",
      "R = 207146.37047889634 (km)\n",
      "R_geo = 42378.137 (km)\n"
     ]
    }
   ],
   "source": [
    "###\n",
    "\n",
    "h_leo = 185e3 # m\n",
    "h_geo = 36000e3 # m\n",
    "\n",
    "R_leo = h_leo + RE\n",
    "R_geo = h_geo + RE\n",
    "\n",
    "v_geo = get_vel( R_geo, R_geo, MU )\n",
    "\n",
    "print(f'v_geo (km/s) = {v_geo/1000}')\n",
    "\n",
    "(vp_gto,va_gto) = get_vels( R_leo, R_geo, MU )\n",
    "\n",
    "print(f'vp_gto (km/s) = {vp_gto/1000}, va_gto (km/s) = {va_gto/1000}')\n",
    "\n",
    "dv_gto2geo = v_geo - va_gto\n",
    "print(f'DV GTO 2 GEO = v_geo - va_gto (m/s) = {dv_gto2geo}')\n",
    "\n",
    "\n",
    "v_inf_leo = np.sqrt( 2*MU/R_leo)\n",
    "v_inf_geo = np.sqrt( 2*MU/R_geo)\n",
    "\n",
    "print(f'v_inf_leo (km/s) = {v_inf_leo/1000}, v_inf_geo (km/s) = {v_inf_geo/1000}')\n",
    "\n",
    "R = get_apo( R_leo, vp_gto + 600, MU )\n",
    "print(f'R = {(R - RE)/1000} (km)')\n"
   ]
  },
  {
   "cell_type": "code",
   "execution_count": 72,
   "metadata": {},
   "outputs": [
    {
     "name": "stdout",
     "output_type": "stream",
     "text": [
      "RE_M (km) = 384400.0\n",
      "vp_lti (km/s) = 10.928283047140303, va_lti (km/s) = 0.18658641730790695\n",
      "DV GTO 2 LTI = vp_lti - vp_gto (m/s) = 672.6742579033071\n",
      "V_FAKE (km) = 1.0183034106336974\n",
      "V_M (km) = 1.023219504127959\n"
     ]
    }
   ],
   "source": [
    "MU_L = Constants.JPL_SSD_MOON_GM\n",
    "\n",
    "# https://nssdc.gsfc.nasa.gov/planetary/factsheet/moonfact.html\n",
    "RE_MP = 363104e3\n",
    "RE_MA = 405696e3\n",
    "RE_M = np.mean([RE_MA,RE_MP])\n",
    "print(f'RE_M (km) = {RE_M/1000}')\n",
    "\n",
    "\n",
    "# TODO: check me: apogee of low earth LTI orbit\n",
    "R_a_LTI = 384400e3\n",
    "\n",
    "(vp_lti,va_lti) = get_vels( R_leo, R_a_LTI, MU )\n",
    "\n",
    "print(f'vp_lti (km/s) = {vp_lti/1000}, va_lti (km/s) = {va_lti/1000}')\n",
    "\n",
    "dv_gto2lti = vp_lti - vp_gto\n",
    "print(f'DV GTO 2 LTI = vp_lti - vp_gto (m/s) = {dv_gto2lti}')\n",
    "\n",
    "\n",
    "v_fmoon = get_vel( RE_M, RE_M, MU )\n",
    "T_moon = 27.32*86400\n",
    "v_moon = RE_M * (2*np.pi/T_moon)\n",
    "print(f'V_FAKE (km) = {v_fmoon/1000}')\n",
    "print(f'V_M (km) = {v_moon/1000}')\n",
    "\n"
   ]
  },
  {
   "cell_type": "code",
   "execution_count": 66,
   "metadata": {},
   "outputs": [
    {
     "name": "stdout",
     "output_type": "stream",
     "text": [
      "vp_geo2lti (km/s) = 4.116267245518918, va_geo2lti (km/s) = 0.45379744344228246\n",
      "DV GEO 2 LTI = vp_geo2lti - v_geo (m/s) = 1049.3789536933427\n"
     ]
    }
   ],
   "source": [
    "### GEO to Lunar Transfer (2.5km/s from bard = .7 circ + 1.3 raise + .5 inc)\n",
    "\n",
    "\n",
    "(vp_geo2lti,va_geo2lti) = get_vels( h_geo+RE, R_a_LTI, MU )\n",
    "\n",
    "print(f'vp_geo2lti (km/s) = {vp_geo2lti/1000}, va_geo2lti (km/s) = {va_geo2lti/1000}')\n",
    "\n",
    "dv_geo2lti = vp_geo2lti - v_geo\n",
    "\n",
    "print(f'DV GEO 2 LTI = vp_geo2lti - v_geo (m/s) = {dv_geo2lti}')\n",
    "\n"
   ]
  },
  {
   "cell_type": "code",
   "execution_count": 67,
   "metadata": {},
   "outputs": [
    {
     "name": "stdout",
     "output_type": "stream",
     "text": [
      "moon radius = 1737400.0\n",
      "MU_L (m^3/s^2) = 4.902798458429648 *10^12\n",
      "MU (Gkm^3/s^2) = 0.39860044180000004, MU_L (Gkm^3/s^2) = 0.004902798458429647\n",
      "escape velocity = 2.38 km/s (11.2 for earth)\n",
      "v_ls = 4.624435799449381\n",
      "vp_l2s = 1703.1899706600493\n",
      "va_l2s = 1610.4943153503698\n",
      "v_llo = 1633.5038575843078\n",
      "DV LS 2 L2S = vp_l2s - v_ls (m/s) = 1698.5655348605999\n",
      "DV L2S 2 LLO = v_llo - va_l2s (m/s) = 23.009542233937964\n",
      "RM (km) = 1737.4\n",
      "GTO 2 GEO :          0 \t raise\n",
      "GEO 2 LTI :          0 \t lunar injection\n",
      "LTI 2 LLO :        900 \t lunar orbit capture\n",
      "LLO 2 L2S :         23 \t lunar descent burn\n",
      "L2S 2 LS  :       1699 \t lunar landing burn\n"
     ]
    }
   ],
   "source": [
    "### Lunar Capture (640 m/s from bard to 100 km circ [+ 120 m/s for direct transfers])\n",
    "# : (chatGPT says 1.5 - 2 km/s)\n",
    "\n",
    "dv_lti2llo = 760\n",
    "\n",
    "h_llo = 100e3\n",
    "\n",
    "v_llo = get_vel( h_llo+RM, h_llo+RM, MU_L )\n",
    "\n",
    "(vp_l2s,va_l2s) = get_vels( RM, h_llo+RM, MU_L )\n",
    "\n",
    "# https://nssdc.gsfc.nasa.gov/planetary/factsheet/moonfact.html\n",
    "print(f'moon radius = {RM}')\n",
    "print(f'MU_L (m^3/s^2) = {MU_L*10**-12} *10^12')\n",
    "print(f'MU (Gkm^3/s^2) = {MU * 10**-9 * 10**-6}, MU_L (Gkm^3/s^2) = {MU_L * 10**-9 * 10**-6}')\n",
    "print(f'escape velocity = 2.38 km/s (11.2 for earth)')\n",
    "v_ls = 0 # once every 30 days right ?\n",
    "\n",
    "# Sidereal rotation period (hrs)\t655.720\n",
    "w_L = 2*np.pi / (655.72*3600)\n",
    "v_ls = w_L * RM\n",
    "\n",
    "print(f'v_ls = {v_ls}')\n",
    "print(f'vp_l2s = {vp_l2s}')\n",
    "print(f'va_l2s = {va_l2s}')\n",
    "print(f'v_llo = {v_llo}')\n",
    "\n",
    "dv_ls2l2s = vp_l2s - v_ls\n",
    "print(f'DV LS 2 L2S = vp_l2s - v_ls (m/s) = {dv_ls2l2s}')\n",
    "\n",
    "dv_l2s2llo = v_llo - va_l2s\n",
    "print(f'DV L2S 2 LLO = v_llo - va_l2s (m/s) = {dv_l2s2llo}')\n",
    "\n",
    "print(f'RM (km) = {RM/1000}')\n",
    "\n",
    "\n",
    "# Low-Dv\n",
    "dv_gto2geo = 0\n",
    "dv_lti2llo = 900\n",
    "dv_geo2lti = 0\n",
    "\n",
    "# Ideal\n",
    "dv_gto2geo = 0\n",
    "dv_lti2llo = 700\n",
    "dv_geo2lti = 1300\n",
    "\n",
    "# Realizable\n",
    "dv_gto2geo = 700\n",
    "dv_lti2llo = 900\n",
    "dv_geo2lti = 1300\n",
    "\n",
    "print(f'GTO 2 GEO : {dv_gto2geo:10.0f} \\t raise')\n",
    "print(f'GEO 2 LTI : {dv_geo2lti:10.0f} \\t lunar injection')\n",
    "print(f'LTI 2 LLO : {dv_lti2llo:10.0f} \\t lunar orbit capture')\n",
    "print(f'LLO 2 L2S : {dv_l2s2llo:10.0f} \\t lunar descent burn')\n",
    "print(f'L2S 2 LS  : {dv_ls2l2s:10.0f} \\t lunar landing burn')\n",
    "\n"
   ]
  },
  {
   "cell_type": "code",
   "execution_count": 69,
   "metadata": {},
   "outputs": [
    {
     "name": "stdout",
     "output_type": "stream",
     "text": [
      "m_l2s2ls = 14698.527898294762\n",
      "m_llo = 14775.419110310315\n",
      "m_lti2llo = 18120.548339576002\n",
      "m_gto2geo = 18120.548339576002\n",
      "m_gto_return = 18120.548339576002\n",
      "m_gto_arrive = [18120.54833958 20342.7705618  22564.99278402 24787.21500624\n",
      " 27009.43722846 29231.65945069 31453.88167291 33676.10389513\n",
      " 35898.32611735 38120.54833958]\n",
      "m_geo2gto = [18120.54833958 20342.7705618  22564.99278402 24787.21500624\n",
      " 27009.43722846 29231.65945069 31453.88167291 33676.10389513\n",
      " 35898.32611735 38120.54833958]\n",
      "m_lti2geo = [18120.54833958 20342.7705618  22564.99278402 24787.21500624\n",
      " 27009.43722846 29231.65945069 31453.88167291 33676.10389513\n",
      " 35898.32611735 38120.54833958]\n",
      "m_llo_depart = [22223.00901758 24948.33849205 27673.66796653 30398.997441\n",
      " 33124.32691548 35849.65638996 38574.98586443 41300.31533891\n",
      " 44025.64481338 46750.97428786]\n",
      "m_l2s = [22339.26243491 25078.84870353 27818.43497215 30558.02124077\n",
      " 33297.60750938 36037.193778   38776.78004662 41516.36631524\n",
      " 44255.95258385 46995.53885247]\n",
      "m_ls = [32835.42721269 36862.2157326  40889.0042525  44915.79277241\n",
      " 48942.58129231 52969.36981222 56996.15833213 61022.94685203\n",
      " 65049.73537194 69076.52389184]\n"
     ]
    }
   ],
   "source": [
    "\n",
    "# Isp = 350 # Lox Methane\n",
    "Isp = 450\n",
    "g0 = 9.8\n",
    "m_spacecraft = 10e3\n",
    "# m_dump = 10e3\n",
    "m_dump = np.linspace(0, 20e3, num=10)\n",
    "\n",
    "m_l2s2ls = m_spacecraft * mass_fraction( dv_ls2l2s, Isp, g0 )\n",
    "print(f'm_l2s2ls = {m_l2s2ls}')\n",
    "\n",
    "m_llo_return = m_l2s2ls * mass_fraction( dv_l2s2llo, Isp, g0 )\n",
    "print(f'm_llo = {m_llo_return}')\n",
    "\n",
    "m_lti2llo = m_llo_return * mass_fraction( dv_lti2llo, Isp, g0 )\n",
    "print(f'm_lti2llo = {m_lti2llo}')\n",
    "\n",
    "m_gto2geo = m_lti2llo * mass_fraction( dv_geo2lti, Isp, g0 )\n",
    "print(f'm_gto2geo = {m_gto2geo}')\n",
    "\n",
    "m_gto_return = m_gto2geo * mass_fraction( dv_gto2geo, Isp, g0 )\n",
    "print(f'm_gto_return = {m_gto_return}')\n",
    "\n",
    "m_gto_arrive = m_gto_return + m_dump\n",
    "print(f'm_gto_arrive = {m_gto_arrive}')\n",
    "\n",
    "m_geo2gto = m_gto_arrive * mass_fraction( dv_gto2geo, Isp, g0 )\n",
    "print(f'm_geo2gto = {m_geo2gto}')\n",
    "\n",
    "m_lti2geo = m_geo2gto * mass_fraction( dv_geo2lti, Isp, g0 )\n",
    "print(f'm_lti2geo = {m_lti2geo}')\n",
    "\n",
    "m_llo_depart = m_lti2geo * mass_fraction( dv_lti2llo, Isp, g0 )\n",
    "print(f'm_llo_depart = {m_llo_depart}')\n",
    "\n",
    "m_l2s = m_llo_depart * mass_fraction( dv_l2s2llo, Isp, g0 )\n",
    "print(f'm_l2s = {m_l2s}')\n",
    "\n",
    "m_ls = m_l2s * mass_fraction( dv_ls2l2s, Isp, g0 )\n",
    "print(f'm_ls = {m_ls}')\n",
    "\n"
   ]
  },
  {
   "cell_type": "code",
   "execution_count": 70,
   "metadata": {},
   "outputs": [
    {
     "name": "stdout",
     "output_type": "stream",
     "text": [
      "m_spacecraft = 14698.527898294762\n",
      "m_burned = [18136.8993144  19941.46561208 21746.03190976 23550.59820745\n",
      " 25355.16450513 27159.73080281 28964.2971005  30768.86339818\n",
      " 32573.42969586 34377.99599355]\n",
      "m_dump = [    0.          2222.22222222  4444.44444444  6666.66666667\n",
      "  8888.88888889 11111.11111111 13333.33333333 15555.55555556\n",
      " 17777.77777778 20000.        ]\n",
      "m_burned / (m_burned + m_spacecraft) = [0.55235765 0.57567752 0.59668801 0.61571598 0.63302939 0.64884999\n",
      " 0.66336287 0.67672375 0.68906454 0.70049778]\n",
      "m_burned / (m_burned + m_dump) = [1.         0.8997359  0.83030303 0.77937558 0.74042533 0.70967163\n",
      " 0.68477352 0.66420398 0.6469245  0.63220417]\n"
     ]
    }
   ],
   "source": [
    "###\n",
    "\n",
    "\n",
    "m_spacecraft = m_l2s2ls\n",
    "m_burned = m_ls - m_dump - m_spacecraft\n",
    "\n",
    "mass_ratio = m_burned / (m_burned + m_spacecraft)\n",
    "print(f'm_spacecraft = {m_spacecraft}')\n",
    "print(f'm_burned = {m_burned}')\n",
    "print(f'm_dump = {m_dump}')\n",
    "print(f'm_burned / (m_burned + m_spacecraft) = {m_burned / (m_burned + m_spacecraft)}')\n",
    "\n",
    "print(f'm_burned / (m_burned + m_dump) = {m_burned / (m_burned + m_dump)}')\n"
   ]
  },
  {
   "cell_type": "code",
   "execution_count": 71,
   "metadata": {},
   "outputs": [
    {
     "data": {
      "image/png": "[encoded data removed]",
      "text/plain": [
       "<Figure size 640x480 with 1 Axes>"
      ]
     },
     "metadata": {},
     "output_type": "display_data"
    }
   ],
   "source": [
    "m_burned_ideal = np.asarray([26494.35103807, 28782.35746169, 31070.3638853, 33358.37030891, 35646.37673253, 37934.38315614, 40222.38957975, 42510.39600336, 44798.40242698, 47086.40885059])\n",
    "m_dump_ideal = np.asarray([    0, 2222.22222222,  4444.44444444,  6666.66666667,  8888.88888889, 11111.11111111, 13333.33333333, 15555.55555556, 17777.77777778, 20000.        ])\n",
    "\n",
    "import matplotlib.pyplot as plt\n",
    "\n",
    "# Plotting\n",
    "# plt.plot( m_burned/1000, m_dump/1000, marker='o', linestyle='-' )\n",
    "# plt.xlabel('Propellant Burned (T)')\n",
    "\n",
    "plt.plot( m_dump_ideal / m_burned_ideal * 100, m_dump_ideal/1000, marker=None, linestyle='--', color='r' )\n",
    "plt.plot( m_dump / m_burned * 100, m_dump/1000, marker=None, linestyle='--', color='b' )\n",
    "plt.xlabel('Mass Fraction (%)')\n",
    "plt.legend(['Ideal','Realizable'])\n",
    "# Adding labels and title\n",
    "plt.ylabel('Propellant Offloaded (T)')\n",
    "title = 'Propellant Sizing for 10T Vehicle'\n",
    "plt.title(title)\n",
    "plt.grid()\n",
    "\n",
    "# Display the plot\n",
    "plt.savefig(title.replace(' ','_') + '.png')\n",
    "plt.show()\n",
    "\n",
    "\n"
   ]
  },
  {
   "cell_type": "code",
   "execution_count": null,
   "metadata": {},
   "outputs": [],
   "source": []
  }
 ],
 "metadata": {
  "kernelspec": {
   "display_name": "venv",
   "language": "python",
   "name": "python3"
  },
  "language_info": {
   "codemirror_mode": {
    "name": "ipython",
    "version": 3
   },
   "file_extension": ".py",
   "mimetype": "text/x-python",
   "name": "python",
   "nbconvert_exporter": "python",
   "pygments_lexer": "ipython3",
   "version": "3.1.0"
  }
 },
 "nbformat": 4,
 "nbformat_minor": 2
}

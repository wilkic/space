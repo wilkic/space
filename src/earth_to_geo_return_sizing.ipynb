{
 "cells": [
  {
   "cell_type": "code",
   "execution_count": 1,
   "metadata": {},
   "outputs": [
    {
     "name": "stdout",
     "output_type": "stream",
     "text": [
      "Java version: 1.8.0_382\n",
      "Orekit version: 12.0.1\n",
      "File or folder: /home/chris/git/space/src/orekit-data.zip  not found\n",
      "\n",
      "\n",
      "        The Orekit library relies on some external data for physical models. \n",
      "        Typical data are the Earth Orientation Parameters and the leap seconds history, \n",
      "        both being provided by the IERS or the planetary ephemerides provided by JPL. \n",
      "        Such data is stored in text or binary files with specific formats that Orekit knows \n",
      "        how to read, and needs to be provided for the library to work.\n",
      "\n",
      "        You can download a starting file with this data from the orekit gitlab at:\n",
      "        https://gitlab.orekit.org/orekit/orekit-data\n",
      "\n",
      "        or by the function:\n",
      "        orekit.pyhelpers.download_orekit_data_curdir()\n",
      "\n",
      "        \n"
     ]
    }
   ],
   "source": [
    "import orekit\n",
    "import numpy as np\n",
    "\n",
    "vm = orekit.initVM()\n",
    "print ('Java version:',vm.java_version)\n",
    "print ('Orekit version:', orekit.VERSION)\n",
    "\n",
    "from orekit.pyhelpers import setup_orekit_curdir, download_orekit_data_curdir\n",
    "setup_orekit_curdir()\n",
    "\n",
    "from org.orekit.utils import Constants\n",
    "\n",
    "from scenarios.utils.utility import get_vel, get_vels, r2d\n"
   ]
  },
  {
   "cell_type": "code",
   "execution_count": 2,
   "metadata": {},
   "outputs": [
    {
     "name": "stdout",
     "output_type": "stream",
     "text": [
      "using Constants.WGS84_EARTH_EQUATORIAL_RADIUS 6378137.0 as RE\n",
      "using Constants.WGS84_EARTH_MU 398600441800000.0 as MU\n",
      "g (m/s^2) = 9.7982854791873\n",
      "mu = 398600441800000.0\n",
      "mu_jpl = 398600436738211.56\n",
      "mu - mujpl = 5061788.4375\n"
     ]
    }
   ],
   "source": [
    "\n",
    "###\n",
    "\n",
    "RE = Constants.WGS84_EARTH_EQUATORIAL_RADIUS\n",
    "MU = Constants.WGS84_EARTH_MU\n",
    "\n",
    "print(f'using Constants.WGS84_EARTH_EQUATORIAL_RADIUS {Constants.WGS84_EARTH_EQUATORIAL_RADIUS} as RE')\n",
    "print(f'using Constants.WGS84_EARTH_MU {Constants.WGS84_EARTH_MU} as MU')\n",
    "\n",
    "g_test = MU / RE**2\n",
    "\n",
    "print(f'g (m/s^2) = {g_test}')\n",
    "\n",
    "\n",
    "## TODO: Reconsider MUs ?\n",
    "\n",
    "MU_JPL = Constants.JPL_SSD_EARTH_GM\n",
    "\n",
    "print(f'mu = {MU}')\n",
    "print(f'mu_jpl = {MU_JPL}')\n",
    "print(f'mu - mujpl = {MU - MU_JPL}')\n",
    "\n",
    "RM = Constants.MOON_EQUATORIAL_RADIUS\n"
   ]
  },
  {
   "cell_type": "code",
   "execution_count": 3,
   "metadata": {},
   "outputs": [
    {
     "ename": "TypeError",
     "evalue": "get_vel() missing 1 required positional argument: 'MU'",
     "output_type": "error",
     "traceback": [
      "\u001b[0;31m---------------------------------------------------------------------------\u001b[0m",
      "\u001b[0;31mTypeError\u001b[0m                                 Traceback (most recent call last)",
      "Cell \u001b[0;32mIn[3], line 6\u001b[0m\n\u001b[1;32m      3\u001b[0m h_leo \u001b[38;5;241m=\u001b[39m \u001b[38;5;241m185e3\u001b[39m \u001b[38;5;66;03m# m\u001b[39;00m\n\u001b[1;32m      4\u001b[0m h_geo \u001b[38;5;241m=\u001b[39m \u001b[38;5;241m36000e3\u001b[39m \u001b[38;5;66;03m# m\u001b[39;00m\n\u001b[0;32m----> 6\u001b[0m v_geo \u001b[38;5;241m=\u001b[39m get_vel( h_geo\u001b[38;5;241m+\u001b[39mRE, h_geo\u001b[38;5;241m+\u001b[39mRE )\n\u001b[1;32m      8\u001b[0m \u001b[38;5;28mprint\u001b[39m(\u001b[38;5;124mf\u001b[39m\u001b[38;5;124m'\u001b[39m\u001b[38;5;124mv_geo (km/s) = \u001b[39m\u001b[38;5;132;01m{\u001b[39;00mv_geo\u001b[38;5;241m/\u001b[39m\u001b[38;5;241m1000\u001b[39m\u001b[38;5;132;01m}\u001b[39;00m\u001b[38;5;124m'\u001b[39m)\n\u001b[1;32m     11\u001b[0m (vp_gto,va_gto) \u001b[38;5;241m=\u001b[39m get_vels( h_leo\u001b[38;5;241m+\u001b[39mRE, h_geo\u001b[38;5;241m+\u001b[39mRE )\n",
      "\u001b[0;31mTypeError\u001b[0m: get_vel() missing 1 required positional argument: 'MU'"
     ]
    }
   ],
   "source": [
    "###\n",
    "\n",
    "h_leo = 185e3 # m\n",
    "h_geo = 36000e3 # m\n",
    "\n",
    "v_geo = get_vel( h_geo+RE, h_geo+RE )\n",
    "\n",
    "print(f'v_geo (km/s) = {v_geo/1000}')\n",
    "\n",
    "\n",
    "(vp_gto,va_gto) = get_vels( h_leo+RE, h_geo+RE )\n",
    "\n",
    "print(f'vp_gto (km/s) = {vp_gto/1000}, va_gto (km/s) = {va_gto/1000}')\n",
    "\n",
    "dv_gto2geo = v_geo - va_gto\n",
    "print(f'DV GTO 2 GEO = v_geo - va_gto (m/s) = {dv_gto2geo}')\n",
    "\n",
    "\n"
   ]
  },
  {
   "cell_type": "code",
   "execution_count": null,
   "metadata": {},
   "outputs": [
    {
     "name": "stdout",
     "output_type": "stream",
     "text": [
      "DV EARTH 2 GTO = = = 11.84\n"
     ]
    }
   ],
   "source": [
    "dv_earth_to_gto = 9.4 + 2.44\n",
    "dv_gto_to_geo_check = 1.7\n",
    "\n",
    "print(f'DV EARTH 2 GTO = = = {dv_earth_to_gto}')\n"
   ]
  },
  {
   "cell_type": "code",
   "execution_count": null,
   "metadata": {},
   "outputs": [],
   "source": [
    "\n",
    "### Rocket Equation\n",
    "def rocket_equation( dv, m0, Isp, g0 ):\n",
    "    # dv = Isp * g0 * np.log(m0/mf)\n",
    "    mf = m0 / np.exp( dv / (Isp * g0) )\n",
    "    return mf\n",
    "\n"
   ]
  },
  {
   "cell_type": "code",
   "execution_count": null,
   "metadata": {},
   "outputs": [
    {
     "ename": "NameError",
     "evalue": "name 'dv_ls2l2s' is not defined",
     "output_type": "error",
     "traceback": [
      "\u001b[0;31m---------------------------------------------------------------------------\u001b[0m",
      "\u001b[0;31mNameError\u001b[0m                                 Traceback (most recent call last)",
      "Cell \u001b[0;32mIn[7], line 17\u001b[0m\n\u001b[1;32m     14\u001b[0m \u001b[38;5;66;03m# m_dump = 10e3\u001b[39;00m\n\u001b[1;32m     15\u001b[0m m_dump \u001b[38;5;241m=\u001b[39m np\u001b[38;5;241m.\u001b[39mlinspace(\u001b[38;5;241m0\u001b[39m, \u001b[38;5;241m15e3\u001b[39m, num\u001b[38;5;241m=\u001b[39m\u001b[38;5;241m5\u001b[39m)\n\u001b[0;32m---> 17\u001b[0m m_l2s2ls \u001b[38;5;241m=\u001b[39m m_spacecraft \u001b[38;5;241m*\u001b[39m mass_fraction( dv_ls2l2s, Isp, g0 )\n\u001b[1;32m     18\u001b[0m \u001b[38;5;28mprint\u001b[39m(\u001b[38;5;124mf\u001b[39m\u001b[38;5;124m'\u001b[39m\u001b[38;5;124mm_l2s2ls = \u001b[39m\u001b[38;5;132;01m{\u001b[39;00mm_l2s2ls\u001b[38;5;132;01m}\u001b[39;00m\u001b[38;5;124m'\u001b[39m)\n",
      "\u001b[0;31mNameError\u001b[0m: name 'dv_ls2l2s' is not defined"
     ]
    }
   ],
   "source": [
    "###\n",
    "\n",
    "### Rocket Equation\n",
    "def mass_fraction( dv, Isp, g0 ):\n",
    "    # dv = Isp * g0 * np.log(m0/mf)\n",
    "    m0_over_mf = np.exp( dv / (Isp * g0) )\n",
    "    return m0_over_mf\n",
    "\n",
    "\n",
    "# Starship payload to GTO = 21t\n",
    "# Starship expended propellant = 1200t\n",
    "# 61x propellant expenditure if purely transporting LOX to GTO\n",
    "# (Guess: there's about a 3x reduction in payload capacity of F9\n",
    "# when going to a certain orbit via a fully re-used vehicle compared\n",
    "# to an expendable)\n",
    "# -- ignore for margin\n",
    "\n",
    "\n",
    "# Isp = 350 # Lox Methane\n",
    "Isp = 450\n",
    "g0 = 9.8\n",
    "m_spacecraft = 10e3\n",
    "# m_dump = 10e3\n",
    "m_dump = np.linspace(0, 15e3, num=5)\n",
    "\n",
    "m_l2s2ls = m_spacecraft * mass_fraction( dv_ls2l2s, Isp, g0 )\n",
    "print(f'm_l2s2ls = {m_l2s2ls}')\n",
    "\n"
   ]
  },
  {
   "cell_type": "code",
   "execution_count": null,
   "metadata": {},
   "outputs": [
    {
     "name": "stdout",
     "output_type": "stream",
     "text": [
      "m_spacecraft = 14698.527898294762\n",
      "m_burned = [34898.19641585 39499.5671756  44100.93793535 48702.30869509\n",
      " 53303.67945484]\n",
      "m_dump = [    0.  3750.  7500. 11250. 15000.]\n",
      "m_burned / (m_burned + m_spacecraft) = [0.70363914 0.72879992 0.75002276 0.76816508 0.78385219]\n",
      "m_burned / (m_burned + m_dump) = [1.         0.91329393 0.8546538  0.81235085 0.7803925 ]\n"
     ]
    }
   ],
   "source": [
    "###\n",
    "\n",
    "\n",
    "m_spacecraft = m_l2s2ls\n",
    "m_burned = m_ls - m_dump - m_spacecraft\n",
    "\n",
    "mass_ratio = m_burned / (m_burned + m_spacecraft)\n",
    "print(f'm_spacecraft = {m_spacecraft}')\n",
    "print(f'm_burned = {m_burned}')\n",
    "print(f'm_dump = {m_dump}')\n",
    "print(f'm_burned / (m_burned + m_spacecraft) = {m_burned / (m_burned + m_spacecraft)}')\n",
    "\n",
    "print(f'm_burned / (m_burned + m_dump) = {m_burned / (m_burned + m_dump)}')\n"
   ]
  },
  {
   "cell_type": "code",
   "execution_count": null,
   "metadata": {},
   "outputs": [
    {
     "data": {
      "image/png": "[encoded data removed]",
      "text/plain": [
       "<Figure size 640x480 with 1 Axes>"
      ]
     },
     "metadata": {},
     "output_type": "display_data"
    }
   ],
   "source": [
    "import matplotlib.pyplot as plt\n",
    "\n",
    "# Plotting\n",
    "plt.plot( m_burned/1000, m_dump/1000, marker='o', linestyle='-' )\n",
    "\n",
    "# Adding labels and title\n",
    "title = 'Propellant Sizing for 10T Vehicle'\n",
    "plt.xlabel('Propellant Burned (T)')\n",
    "plt.ylabel('Propellant Offloaded (T)')\n",
    "plt.title(title)\n",
    "\n",
    "# Display the plot\n",
    "plt.savefig(title.replace(' ','_') + '.png')\n",
    "plt.show()\n",
    "\n",
    "\n"
   ]
  }
 ],
 "metadata": {
  "kernelspec": {
   "display_name": "venv",
   "language": "python",
   "name": "python3"
  },
  "language_info": {
   "codemirror_mode": {
    "name": "ipython",
    "version": 3
   },
   "file_extension": ".py",
   "mimetype": "text/x-python",
   "name": "python",
   "nbconvert_exporter": "python",
   "pygments_lexer": "ipython3",
   "version": "3.1.0"
  }
 },
 "nbformat": 4,
 "nbformat_minor": 2
}
